{
 "cells": [
  {
   "cell_type": "markdown",
   "metadata": {},
   "source": [
    "### Даны значения величины заработной платы заемщиков банка (zp) и значения их поведенческого кредитного скоринга (ks): zp = [35, 45, 190, 200, 40, 70, 54, 150, 120, 110], ks = [401, 574, 874, 919, 459, 739, 653, 902, 746, 832]. Используя математические операции, посчитать коэффициенты линейной регрессии, приняв за X заработную плату (то есть, zp - признак), а за y - значения скорингового балла (то есть, ks - целевая переменная). Произвести расчет как с использованием intercept, так и без."
   ]
  },
  {
   "cell_type": "code",
   "execution_count": 5,
   "metadata": {},
   "outputs": [],
   "source": [
    "import numpy as np\n",
    "from sklearn.linear_model import LinearRegression"
   ]
  },
  {
   "cell_type": "code",
   "execution_count": 6,
   "metadata": {},
   "outputs": [],
   "source": [
    "zp = np.array([35, 45, 190, 200, 40, 70, 54, 150, 120, 110])\n",
    "ks = np.array([401, 574, 874, 919, 459, 739, 653, 902, 746, 832])"
   ]
  },
  {
   "cell_type": "code",
   "execution_count": 7,
   "metadata": {},
   "outputs": [
    {
     "name": "stdout",
     "output_type": "stream",
     "text": [
      "y = 2.620538882402765x + 444.1773573243596\n"
     ]
    }
   ],
   "source": [
    "a = (np.mean(zp * ks) - np.mean(zp) * np.mean(ks)) / (np.mean(zp ** 2) - np.mean(zp) ** 2)\n",
    "b = np.mean(ks) - a * np.mean(zp)\n",
    "print(f'y = {a}x + {b}')"
   ]
  },
  {
   "cell_type": "code",
   "execution_count": 8,
   "metadata": {},
   "outputs": [
    {
     "data": {
      "text/plain": [
       "array([[1.        , 0.88749009],\n",
       "       [0.88749009, 1.        ]])"
      ]
     },
     "execution_count": 8,
     "metadata": {},
     "output_type": "execute_result"
    }
   ],
   "source": [
    "np.corrcoef(zp, ks)"
   ]
  },
  {
   "cell_type": "code",
   "execution_count": 9,
   "metadata": {},
   "outputs": [
    {
     "name": "stdout",
     "output_type": "stream",
     "text": [
      "y = [2.62053888]x + 444.17735732435943\n"
     ]
    }
   ],
   "source": [
    "model = LinearRegression()\n",
    "x = zp.reshape(-1, 1)\n",
    "model.fit(x, ks)\n",
    "print(f'y = {model.coef_}x + {model.intercept_}')"
   ]
  },
  {
   "cell_type": "markdown",
   "metadata": {},
   "source": [
    "### Посчитать коэффициент линейной регрессии при заработной плате (zp), используя градиентный спуск (без intercept)."
   ]
  },
  {
   "cell_type": "code",
   "execution_count": 36,
   "metadata": {},
   "outputs": [
    {
     "name": "stdout",
     "output_type": "stream",
     "text": [
      "b1 = 0.25952808\n",
      "b1 = 0.414660650906144\n",
      "b1 = 0.5655188230595969\n",
      "b1 = 0.7122203698240712\n",
      "b1 = 0.8548798195302346\n",
      "b1 = 0.9936085448867542\n",
      "b1 = 1.1285148499277806\n",
      "b1 = 1.2597040545647504\n",
      "b1 = 1.387278576808517\n",
      "b1 = 1.5113380127259965\n"
     ]
    }
   ],
   "source": [
    "x = zp\n",
    "y = ks\n",
    "\n",
    "def mse_(b1, y = y, x = x, n = 10):\n",
    "    return np.sum((b1 * x - y) ** 2) / n\n",
    "\n",
    "alf = 1e-6\n",
    "b1 = 0.1\n",
    "n = 10\n",
    "\n",
    "for i in range(10):\n",
    "    b1 -= alf * (2 / n) * np.sum((b1 * x - y) * x)\n",
    "    print('b1 = {}'.format(b1))\n"
   ]
  },
  {
   "cell_type": "code",
   "execution_count": 37,
   "metadata": {},
   "outputs": [
    {
     "name": "stdout",
     "output_type": "stream",
     "text": [
      "b1 = 1.6319792141937546 mse = 306275.7568040035\n",
      "b1 = 5.889816771625289 mse = 56516.8584159028\n",
      "b1 = 5.8898204201295625 mse = 56516.85841571941\n",
      "b1 = 5.889820420132673 mse = 56516.85841571943\n",
      "b1 = 5.889820420132673 mse = 56516.85841571943\n",
      "b1 = 5.889820420132673 mse = 56516.85841571943\n",
      "b1 = 5.889820420132673 mse = 56516.85841571943\n",
      "b1 = 5.889820420132673 mse = 56516.85841571943\n",
      "b1 = 5.889820420132673 mse = 56516.85841571943\n",
      "b1 = 5.889820420132673 mse = 56516.85841571943\n"
     ]
    }
   ],
   "source": [
    "for i in range(5000):\n",
    "    b1 -= alf * (2 / n) * np.sum((b1 * x - y) * x)\n",
    "    if i % 500 == 0:\n",
    "        print('b1 = {b1} mse = {mse}'.format(b1 = b1, mse = mse_(b1)))"
   ]
  },
  {
   "cell_type": "markdown",
   "metadata": {},
   "source": [
    "### Произвести вычисления как в пункте 2, но с вычислением intercept. Учесть, что изменение коэффициентов должно производиться на каждом шаге одновременно (то есть изменение одного коэффициента не должно влиять на изменение другого во время одной итерации)."
   ]
  },
  {
   "cell_type": "code",
   "execution_count": 48,
   "metadata": {},
   "outputs": [
    {
     "name": "stdout",
     "output_type": "stream",
     "text": [
      "b1 = 5.225081660206438 mse = 62604.42962092241 intercept = {444.17735732435943}\n",
      "b1 = 5.225081660206438 mse = 62604.42962092241 intercept = {444.17735732435943}\n",
      "b1 = 5.225081660206438 mse = 62604.42962092241 intercept = {444.17735732435943}\n",
      "b1 = 5.225081660206438 mse = 62604.42962092241 intercept = {444.17735732435943}\n",
      "b1 = 5.225081660206438 mse = 62604.42962092241 intercept = {444.17735732435943}\n",
      "b1 = 5.225081660206438 mse = 62604.42962092241 intercept = {444.17735732435943}\n",
      "b1 = 5.225081660206438 mse = 62604.42962092241 intercept = {444.17735732435943}\n",
      "b1 = 5.225081660206438 mse = 62604.42962092241 intercept = {444.17735732435943}\n",
      "b1 = 5.225081660206438 mse = 62604.42962092241 intercept = {444.17735732435943}\n",
      "b1 = 5.225081660206438 mse = 62604.42962092241 intercept = {444.17735732435943}\n"
     ]
    }
   ],
   "source": [
    "for i in range(5000):\n",
    "    b1 -= alf * (2 / n) * np.sum((b1 * x - y) * x)\n",
    "    \n",
    "    if i % 500 == 0:\n",
    "        print('b1 = {b1} mse = {mse} intercept = {intercept}'.format(b1 = b1, mse = mse_(b1), intercept = {model.intercept_}))"
   ]
  }
 ],
 "metadata": {
  "kernelspec": {
   "display_name": "Python 3",
   "language": "python",
   "name": "python3"
  },
  "language_info": {
   "codemirror_mode": {
    "name": "ipython",
    "version": 3
   },
   "file_extension": ".py",
   "mimetype": "text/x-python",
   "name": "python",
   "nbconvert_exporter": "python",
   "pygments_lexer": "ipython3",
   "version": "3.10.11"
  }
 },
 "nbformat": 4,
 "nbformat_minor": 2
}
